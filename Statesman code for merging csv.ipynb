{
 "cells": [
  {
   "cell_type": "code",
   "execution_count": null,
   "metadata": {},
   "outputs": [],
   "source": [
    "# For merging personal information\n",
    "import os\n",
    "import csv\n",
    "files = os.listdir()\n",
    "line_count = 0\n",
    "\n",
    "for file in files:\n",
    "    if file.endswith('ion.csv'):  # I used endswith 'ion.csv' because for personal info, all files ends with _information.csv\n",
    "        with open(file, 'r') as f:\n",
    "            csv_reader = csv.reader(f, delimiter=',')\n",
    "            with open('merged_pers_info.csv', 'a', newline='') as f1: #Here you specify file name for the output\n",
    "                csv_writer = csv.writer(f1, delimiter=',')\n",
    "                #next(csv_reader,None)\n",
    "                if line_count == 0:\n",
    "                    csv_writer.writerow([\"Last name\", \"First name\", \"Phone number\", \"Location\", \"Email\"])\n",
    "                    line_count +=1\n",
    "                next(csv_reader,None)\n",
    "                for row in csv_reader:\n",
    "                    csv_writer.writerow(row)"
   ]
  },
  {
   "cell_type": "code",
   "execution_count": 1,
   "metadata": {},
   "outputs": [],
   "source": [
    "# For merging work experience\n",
    "import os\n",
    "import csv\n",
    "files = os.listdir()\n",
    "line_count = 0\n",
    "\n",
    "for file in files:\n",
    "    if file.endswith('exp.csv'):  # I used endswith 'ion.csv' because for personal info, all files ends with _information.csv\n",
    "        with open(file, 'r') as f:\n",
    "            csv_reader = csv.reader(f, delimiter=',')\n",
    "            with open('merged_work_exp.csv', 'a', newline='') as f1: #Here you specify file name for the output\n",
    "                csv_writer = csv.writer(f1, delimiter=',')\n",
    "                #next(csv_reader,None)\n",
    "                if line_count == 0:\n",
    "                    csv_writer.writerow([\"Position\", \"Years of Experience\", \"Role summary\", \"Top Achievements\", \"Objective\"])\n",
    "                    line_count +=1\n",
    "                next(csv_reader,None)\n",
    "                for row in csv_reader:\n",
    "                    csv_writer.writerow(row)"
   ]
  },
  {
   "cell_type": "code",
   "execution_count": 4,
   "metadata": {},
   "outputs": [
    {
     "data": {
      "text/html": [
       "<div>\n",
       "<style scoped>\n",
       "    .dataframe tbody tr th:only-of-type {\n",
       "        vertical-align: middle;\n",
       "    }\n",
       "\n",
       "    .dataframe tbody tr th {\n",
       "        vertical-align: top;\n",
       "    }\n",
       "\n",
       "    .dataframe thead th {\n",
       "        text-align: right;\n",
       "    }\n",
       "</style>\n",
       "<table border=\"1\" class=\"dataframe\">\n",
       "  <thead>\n",
       "    <tr style=\"text-align: right;\">\n",
       "      <th></th>\n",
       "      <th>Position</th>\n",
       "      <th>Years of Experience</th>\n",
       "      <th>Role summary</th>\n",
       "      <th>Top Achievements</th>\n",
       "      <th>Objective</th>\n",
       "    </tr>\n",
       "  </thead>\n",
       "  <tbody>\n",
       "    <tr>\n",
       "      <td>0</td>\n",
       "      <td>['None']</td>\n",
       "      <td>0.00</td>\n",
       "      <td>None</td>\n",
       "      <td>['None']</td>\n",
       "      <td>None</td>\n",
       "    </tr>\n",
       "    <tr>\n",
       "      <td>0</td>\n",
       "      <td>['Teacher, Belvis sch, 1 year']</td>\n",
       "      <td>1.00</td>\n",
       "      <td>Teaching</td>\n",
       "      <td>['None']</td>\n",
       "      <td>None</td>\n",
       "    </tr>\n",
       "    <tr>\n",
       "      <td>0</td>\n",
       "      <td>['Computer operator, Temmy Enterprise, 1 year']</td>\n",
       "      <td>1.00</td>\n",
       "      <td>None</td>\n",
       "      <td>['None']</td>\n",
       "      <td>None</td>\n",
       "    </tr>\n",
       "    <tr>\n",
       "      <td>0</td>\n",
       "      <td>['None']</td>\n",
       "      <td>0.00</td>\n",
       "      <td>None</td>\n",
       "      <td>['None']</td>\n",
       "      <td>To be useful in machine learning industry</td>\n",
       "    </tr>\n",
       "    <tr>\n",
       "      <td>0</td>\n",
       "      <td>['Internship,Harmony Advanced Diagnostic Centr...</td>\n",
       "      <td>0.25</td>\n",
       "      <td>None</td>\n",
       "      <td>['Ability to operate biomedical equipment']</td>\n",
       "      <td>None</td>\n",
       "    </tr>\n",
       "    <tr>\n",
       "      <td>0</td>\n",
       "      <td>['Researcher, UPM, 5 years']</td>\n",
       "      <td>5.00</td>\n",
       "      <td>Research</td>\n",
       "      <td>['Published procedure']</td>\n",
       "      <td>To be a top programmer</td>\n",
       "    </tr>\n",
       "  </tbody>\n",
       "</table>\n",
       "</div>"
      ],
      "text/plain": [
       "                                            Position  Years of Experience  \\\n",
       "0                                           ['None']                 0.00   \n",
       "0                    ['Teacher, Belvis sch, 1 year']                 1.00   \n",
       "0    ['Computer operator, Temmy Enterprise, 1 year']                 1.00   \n",
       "0                                           ['None']                 0.00   \n",
       "0  ['Internship,Harmony Advanced Diagnostic Centr...                 0.25   \n",
       "0                       ['Researcher, UPM, 5 years']                 5.00   \n",
       "\n",
       "  Role summary                             Top Achievements  \\\n",
       "0         None                                     ['None']   \n",
       "0     Teaching                                     ['None']   \n",
       "0         None                                     ['None']   \n",
       "0         None                                     ['None']   \n",
       "0         None  ['Ability to operate biomedical equipment']   \n",
       "0     Research                      ['Published procedure']   \n",
       "\n",
       "                                   Objective  \n",
       "0                                       None  \n",
       "0                                       None  \n",
       "0                                       None  \n",
       "0  To be useful in machine learning industry  \n",
       "0                                       None  \n",
       "0                     To be a top programmer  "
      ]
     },
     "execution_count": 4,
     "metadata": {},
     "output_type": "execute_result"
    }
   ],
   "source": [
    "import pandas as pd\n",
    "import numpy as np\n",
    "import matplotlib.pyplot as plt\n",
    "\n",
    "work_exp = pd.read_csv('merged_work_exp.csv')\n",
    "work_exp"
   ]
  },
  {
   "cell_type": "code",
   "execution_count": 5,
   "metadata": {},
   "outputs": [
    {
     "data": {
      "text/plain": [
       "<matplotlib.axes._subplots.AxesSubplot at 0x27f86e50888>"
      ]
     },
     "execution_count": 5,
     "metadata": {},
     "output_type": "execute_result"
    },
    {
     "data": {
      "image/png": "[encoded data removed]",
      "text/plain": [
       "<Figure size 432x288 with 1 Axes>"
      ]
     },
     "metadata": {
      "needs_background": "light"
     },
     "output_type": "display_data"
    }
   ],
   "source": [
    "work_exp.plot.bar()\n",
    "\n",
    "#work_exp[2]\n",
    "#plt.pie(work_exp)"
   ]
  },
  {
   "cell_type": "code",
   "execution_count": 6,
   "metadata": {},
   "outputs": [
    {
     "data": {
      "text/html": [
       "<div>\n",
       "<style scoped>\n",
       "    .dataframe tbody tr th:only-of-type {\n",
       "        vertical-align: middle;\n",
       "    }\n",
       "\n",
       "    .dataframe tbody tr th {\n",
       "        vertical-align: top;\n",
       "    }\n",
       "\n",
       "    .dataframe thead th {\n",
       "        text-align: right;\n",
       "    }\n",
       "</style>\n",
       "<table border=\"1\" class=\"dataframe\">\n",
       "  <thead>\n",
       "    <tr style=\"text-align: right;\">\n",
       "      <th></th>\n",
       "      <th>Years of Experience</th>\n",
       "    </tr>\n",
       "  </thead>\n",
       "  <tbody>\n",
       "    <tr>\n",
       "      <td>count</td>\n",
       "      <td>6.000000</td>\n",
       "    </tr>\n",
       "    <tr>\n",
       "      <td>mean</td>\n",
       "      <td>1.208333</td>\n",
       "    </tr>\n",
       "    <tr>\n",
       "      <td>std</td>\n",
       "      <td>1.913222</td>\n",
       "    </tr>\n",
       "    <tr>\n",
       "      <td>min</td>\n",
       "      <td>0.000000</td>\n",
       "    </tr>\n",
       "    <tr>\n",
       "      <td>25%</td>\n",
       "      <td>0.062500</td>\n",
       "    </tr>\n",
       "    <tr>\n",
       "      <td>50%</td>\n",
       "      <td>0.625000</td>\n",
       "    </tr>\n",
       "    <tr>\n",
       "      <td>75%</td>\n",
       "      <td>1.000000</td>\n",
       "    </tr>\n",
       "    <tr>\n",
       "      <td>max</td>\n",
       "      <td>5.000000</td>\n",
       "    </tr>\n",
       "  </tbody>\n",
       "</table>\n",
       "</div>"
      ],
      "text/plain": [
       "       Years of Experience\n",
       "count             6.000000\n",
       "mean              1.208333\n",
       "std               1.913222\n",
       "min               0.000000\n",
       "25%               0.062500\n",
       "50%               0.625000\n",
       "75%               1.000000\n",
       "max               5.000000"
      ]
     },
     "execution_count": 6,
     "metadata": {},
     "output_type": "execute_result"
    }
   ],
   "source": [
    "work_exp.describe()"
   ]
  },
  {
   "cell_type": "code",
   "execution_count": 7,
   "metadata": {},
   "outputs": [
    {
     "data": {
      "text/plain": [
       "array([[<matplotlib.axes._subplots.AxesSubplot object at 0x0000027F86F40A48>]],\n",
       "      dtype=object)"
      ]
     },
     "execution_count": 7,
     "metadata": {},
     "output_type": "execute_result"
    },
    {
     "data": {
      "image/png": "[encoded data removed]",
      "text/plain": [
       "<Figure size 432x288 with 1 Axes>"
      ]
     },
     "metadata": {
      "needs_background": "light"
     },
     "output_type": "display_data"
    }
   ],
   "source": [
    "work_exp.hist()"
   ]
  },
  {
   "cell_type": "code",
   "execution_count": 26,
   "metadata": {},
   "outputs": [
    {
     "data": {
      "image/png": "[encoded data removed]",
      "text/plain": [
       "<Figure size 432x288 with 1 Axes>"
      ]
     },
     "metadata": {},
     "output_type": "display_data"
    }
   ],
   "source": [
    "#PIE CHARTS\n",
    "plt.pie(work_exp['Years of Experience'])\n",
    "autopct=' 1.1f, shadow=True'\n",
    "#autopct = '% 1f %%', shadow=True)\n",
    "plt.show()"
   ]
  },
  {
   "cell_type": "code",
   "execution_count": 27,
   "metadata": {},
   "outputs": [
    {
     "data": {
      "text/html": [
       "<div>\n",
       "<style scoped>\n",
       "    .dataframe tbody tr th:only-of-type {\n",
       "        vertical-align: middle;\n",
       "    }\n",
       "\n",
       "    .dataframe tbody tr th {\n",
       "        vertical-align: top;\n",
       "    }\n",
       "\n",
       "    .dataframe thead th {\n",
       "        text-align: right;\n",
       "    }\n",
       "</style>\n",
       "<table border=\"1\" class=\"dataframe\">\n",
       "  <thead>\n",
       "    <tr style=\"text-align: right;\">\n",
       "      <th></th>\n",
       "      <th>Last name</th>\n",
       "      <th>First name</th>\n",
       "      <th>Phone number</th>\n",
       "      <th>Location</th>\n",
       "      <th>Email</th>\n",
       "    </tr>\n",
       "  </thead>\n",
       "  <tbody>\n",
       "    <tr>\n",
       "      <td>0</td>\n",
       "      <td>ajirireloja</td>\n",
       "      <td>samuel</td>\n",
       "      <td>9076588590</td>\n",
       "      <td>Abuja</td>\n",
       "      <td>aechealgr8@gmail.com</td>\n",
       "    </tr>\n",
       "    <tr>\n",
       "      <td>0</td>\n",
       "      <td>akinlabi</td>\n",
       "      <td>samuel</td>\n",
       "      <td>7012659092</td>\n",
       "      <td>Lagos</td>\n",
       "      <td>samueloreoluwa4@gmail.com</td>\n",
       "    </tr>\n",
       "    <tr>\n",
       "      <td>0</td>\n",
       "      <td>Are</td>\n",
       "      <td>Victor</td>\n",
       "      <td>7069395130</td>\n",
       "      <td>Ilorin</td>\n",
       "      <td>arevictor75@gmail.com</td>\n",
       "    </tr>\n",
       "    <tr>\n",
       "      <td>0</td>\n",
       "      <td>Aremu</td>\n",
       "      <td>Aishat</td>\n",
       "      <td>7084283672</td>\n",
       "      <td>Lagos</td>\n",
       "      <td>aishatmorenike1@gmail.com</td>\n",
       "    </tr>\n",
       "    <tr>\n",
       "      <td>0</td>\n",
       "      <td>Ige</td>\n",
       "      <td>Theophilus</td>\n",
       "      <td>8052085331</td>\n",
       "      <td>Lagos</td>\n",
       "      <td>igetheophilus02@gmail.com</td>\n",
       "    </tr>\n",
       "    <tr>\n",
       "      <td>0</td>\n",
       "      <td>salawu</td>\n",
       "      <td>abdulbaki</td>\n",
       "      <td>9068924442</td>\n",
       "      <td>Ilorin</td>\n",
       "      <td>salawuabdulbaki@gmail.com</td>\n",
       "    </tr>\n",
       "    <tr>\n",
       "      <td>0</td>\n",
       "      <td>statesman</td>\n",
       "      <td>adeyinka</td>\n",
       "      <td>582556152</td>\n",
       "      <td>Dhahran</td>\n",
       "      <td>adeyinka.statesman@gmail.com</td>\n",
       "    </tr>\n",
       "  </tbody>\n",
       "</table>\n",
       "</div>"
      ],
      "text/plain": [
       "     Last name  First name  Phone number Location  \\\n",
       "0  ajirireloja      samuel    9076588590    Abuja   \n",
       "0     akinlabi      samuel    7012659092    Lagos   \n",
       "0          Are      Victor    7069395130   Ilorin   \n",
       "0        Aremu      Aishat    7084283672    Lagos   \n",
       "0          Ige  Theophilus    8052085331    Lagos   \n",
       "0       salawu   abdulbaki    9068924442   Ilorin   \n",
       "0    statesman    adeyinka     582556152  Dhahran   \n",
       "\n",
       "                          Email  \n",
       "0          aechealgr8@gmail.com  \n",
       "0     samueloreoluwa4@gmail.com  \n",
       "0         arevictor75@gmail.com  \n",
       "0     aishatmorenike1@gmail.com  \n",
       "0     igetheophilus02@gmail.com  \n",
       "0     salawuabdulbaki@gmail.com  \n",
       "0  adeyinka.statesman@gmail.com  "
      ]
     },
     "execution_count": 27,
     "metadata": {},
     "output_type": "execute_result"
    }
   ],
   "source": [
    "p_info = pd.read_csv('merged_pers_info.csv')\n",
    "p_info"
   ]
  },
  {
   "cell_type": "code",
   "execution_count": 30,
   "metadata": {},
   "outputs": [
    {
     "data": {
      "image/png": "[encoded data removed]",
      "text/plain": [
       "<Figure size 432x288 with 1 Axes>"
      ]
     },
     "metadata": {
      "needs_background": "light"
     },
     "output_type": "display_data"
    }
   ],
   "source": [
    "p_info.hist()\n",
    "plt.show()"
   ]
  },
  {
   "cell_type": "code",
   "execution_count": 35,
   "metadata": {},
   "outputs": [
    {
     "ename": "SyntaxError",
     "evalue": "invalid syntax (<ipython-input-35-a087a3a37c14>, line 21)",
     "output_type": "error",
     "traceback": [
      "\u001b[1;36m  File \u001b[1;32m\"<ipython-input-35-a087a3a37c14>\"\u001b[1;36m, line \u001b[1;32m21\u001b[0m\n\u001b[1;33m    skill_sum = = pd.read_csv('merged_skills.csv')\u001b[0m\n\u001b[1;37m                ^\u001b[0m\n\u001b[1;31mSyntaxError\u001b[0m\u001b[1;31m:\u001b[0m invalid syntax\n"
     ]
    }
   ],
   "source": [
    "# For merging Skills\n",
    "import os\n",
    "import csv\n",
    "files = os.listdir()\n",
    "line_count = 0\n",
    "\n",
    "for file in files:\n",
    "    if file.endswith('ills.csv'):  # I used endswith 'ills.csv' because for skills, all files ends with _skills.csv\n",
    "        with open(file, 'r') as f:\n",
    "            csv_reader = csv.reader(f, delimiter=',')\n",
    "            with open('merged_skills.csv', 'a', newline='') as f1: #Here you specify file name for the output\n",
    "                csv_writer = csv.writer(f1, delimiter=',')\n",
    "                #next(csv_reader,None)\n",
    "                if line_count == 0:\n",
    "                    csv_writer.writerow([\"Skills\", \"Ref\"])\n",
    "                    line_count +=1\n",
    "                next(csv_reader,None)\n",
    "                for row in csv_reader:\n",
    "                    csv_writer.writerow(row)\n",
    "            \n"
   ]
  },
  {
   "cell_type": "code",
   "execution_count": 36,
   "metadata": {},
   "outputs": [
    {
     "data": {
      "text/html": [
       "<div>\n",
       "<style scoped>\n",
       "    .dataframe tbody tr th:only-of-type {\n",
       "        vertical-align: middle;\n",
       "    }\n",
       "\n",
       "    .dataframe tbody tr th {\n",
       "        vertical-align: top;\n",
       "    }\n",
       "\n",
       "    .dataframe thead th {\n",
       "        text-align: right;\n",
       "    }\n",
       "</style>\n",
       "<table border=\"1\" class=\"dataframe\">\n",
       "  <thead>\n",
       "    <tr style=\"text-align: right;\">\n",
       "      <th></th>\n",
       "      <th>Skills</th>\n",
       "      <th>Ref</th>\n",
       "    </tr>\n",
       "  </thead>\n",
       "  <tbody>\n",
       "    <tr>\n",
       "      <td>0</td>\n",
       "      <td>['Python', 'C++', 'HTML', 'Java', 'javascript'...</td>\n",
       "      <td>['None']</td>\n",
       "    </tr>\n",
       "    <tr>\n",
       "      <td>0</td>\n",
       "      <td>['Python', 'Matlab', 'CorelDraw', 'Machine lea...</td>\n",
       "      <td>['None']</td>\n",
       "    </tr>\n",
       "    <tr>\n",
       "      <td>0</td>\n",
       "      <td>['Microsoft office', 'Java', 'Python', 'C']</td>\n",
       "      <td>['None']</td>\n",
       "    </tr>\n",
       "    <tr>\n",
       "      <td>0</td>\n",
       "      <td>['Python', 'Machine learning', 'Microsoft offi...</td>\n",
       "      <td>['None']</td>\n",
       "    </tr>\n",
       "    <tr>\n",
       "      <td>0</td>\n",
       "      <td>['Python IOT', 'Graphic design', 'Video animat...</td>\n",
       "      <td>['None']</td>\n",
       "    </tr>\n",
       "    <tr>\n",
       "      <td>0</td>\n",
       "      <td>['Python', 'Research', 'Statistics']</td>\n",
       "      <td>['Dr Tajudeen AO']</td>\n",
       "    </tr>\n",
       "  </tbody>\n",
       "</table>\n",
       "</div>"
      ],
      "text/plain": [
       "                                              Skills                 Ref\n",
       "0  ['Python', 'C++', 'HTML', 'Java', 'javascript'...            ['None']\n",
       "0  ['Python', 'Matlab', 'CorelDraw', 'Machine lea...            ['None']\n",
       "0        ['Microsoft office', 'Java', 'Python', 'C']            ['None']\n",
       "0  ['Python', 'Machine learning', 'Microsoft offi...            ['None']\n",
       "0  ['Python IOT', 'Graphic design', 'Video animat...            ['None']\n",
       "0               ['Python', 'Research', 'Statistics']  ['Dr Tajudeen AO']"
      ]
     },
     "execution_count": 36,
     "metadata": {},
     "output_type": "execute_result"
    }
   ],
   "source": [
    "skill_sum = pd.read_csv('merged_skills.csv')\n",
    "skill_sum"
   ]
  },
  {
   "cell_type": "code",
   "execution_count": 42,
   "metadata": {},
   "outputs": [
    {
     "ename": "ValueError",
     "evalue": "No axis named Ref for object type <class 'pandas.core.frame.DataFrame'>",
     "output_type": "error",
     "traceback": [
      "\u001b[1;31m---------------------------------------------------------------------------\u001b[0m",
      "\u001b[1;31mValueError\u001b[0m                                Traceback (most recent call last)",
      "\u001b[1;32m<ipython-input-42-6c9ca72c8152>\u001b[0m in \u001b[0;36m<module>\u001b[1;34m\u001b[0m\n\u001b[1;32m----> 1\u001b[1;33m \u001b[0mskill_sum\u001b[0m\u001b[1;33m.\u001b[0m\u001b[0mcount\u001b[0m\u001b[1;33m(\u001b[0m\u001b[1;34m'Ref'\u001b[0m\u001b[1;33m)\u001b[0m\u001b[1;33m\u001b[0m\u001b[1;33m\u001b[0m\u001b[0m\n\u001b[0m",
      "\u001b[1;32m~\\Anaconda3\\lib\\site-packages\\pandas\\core\\frame.py\u001b[0m in \u001b[0;36mcount\u001b[1;34m(self, axis, level, numeric_only)\u001b[0m\n\u001b[0;32m   7810\u001b[0m         \u001b[0mMyla\u001b[0m      \u001b[1;36m1\u001b[0m\u001b[1;33m\u001b[0m\u001b[1;33m\u001b[0m\u001b[0m\n\u001b[0;32m   7811\u001b[0m         \"\"\"\n\u001b[1;32m-> 7812\u001b[1;33m         \u001b[0maxis\u001b[0m \u001b[1;33m=\u001b[0m \u001b[0mself\u001b[0m\u001b[1;33m.\u001b[0m\u001b[0m_get_axis_number\u001b[0m\u001b[1;33m(\u001b[0m\u001b[0maxis\u001b[0m\u001b[1;33m)\u001b[0m\u001b[1;33m\u001b[0m\u001b[1;33m\u001b[0m\u001b[0m\n\u001b[0m\u001b[0;32m   7813\u001b[0m         \u001b[1;32mif\u001b[0m \u001b[0mlevel\u001b[0m \u001b[1;32mis\u001b[0m \u001b[1;32mnot\u001b[0m \u001b[1;32mNone\u001b[0m\u001b[1;33m:\u001b[0m\u001b[1;33m\u001b[0m\u001b[1;33m\u001b[0m\u001b[0m\n\u001b[0;32m   7814\u001b[0m             \u001b[1;32mreturn\u001b[0m \u001b[0mself\u001b[0m\u001b[1;33m.\u001b[0m\u001b[0m_count_level\u001b[0m\u001b[1;33m(\u001b[0m\u001b[0mlevel\u001b[0m\u001b[1;33m,\u001b[0m \u001b[0maxis\u001b[0m\u001b[1;33m=\u001b[0m\u001b[0maxis\u001b[0m\u001b[1;33m,\u001b[0m \u001b[0mnumeric_only\u001b[0m\u001b[1;33m=\u001b[0m\u001b[0mnumeric_only\u001b[0m\u001b[1;33m)\u001b[0m\u001b[1;33m\u001b[0m\u001b[1;33m\u001b[0m\u001b[0m\n",
      "\u001b[1;32m~\\Anaconda3\\lib\\site-packages\\pandas\\core\\generic.py\u001b[0m in \u001b[0;36m_get_axis_number\u001b[1;34m(cls, axis)\u001b[0m\n\u001b[0;32m    409\u001b[0m             \u001b[1;32mexcept\u001b[0m \u001b[0mKeyError\u001b[0m\u001b[1;33m:\u001b[0m\u001b[1;33m\u001b[0m\u001b[1;33m\u001b[0m\u001b[0m\n\u001b[0;32m    410\u001b[0m                 \u001b[1;32mpass\u001b[0m\u001b[1;33m\u001b[0m\u001b[1;33m\u001b[0m\u001b[0m\n\u001b[1;32m--> 411\u001b[1;33m         \u001b[1;32mraise\u001b[0m \u001b[0mValueError\u001b[0m\u001b[1;33m(\u001b[0m\u001b[1;34m\"No axis named {0} for object type {1}\"\u001b[0m\u001b[1;33m.\u001b[0m\u001b[0mformat\u001b[0m\u001b[1;33m(\u001b[0m\u001b[0maxis\u001b[0m\u001b[1;33m,\u001b[0m \u001b[0mcls\u001b[0m\u001b[1;33m)\u001b[0m\u001b[1;33m)\u001b[0m\u001b[1;33m\u001b[0m\u001b[1;33m\u001b[0m\u001b[0m\n\u001b[0m\u001b[0;32m    412\u001b[0m \u001b[1;33m\u001b[0m\u001b[0m\n\u001b[0;32m    413\u001b[0m     \u001b[1;33m@\u001b[0m\u001b[0mclassmethod\u001b[0m\u001b[1;33m\u001b[0m\u001b[1;33m\u001b[0m\u001b[0m\n",
      "\u001b[1;31mValueError\u001b[0m: No axis named Ref for object type <class 'pandas.core.frame.DataFrame'>"
     ]
    }
   ],
   "source": [
    "# For merging Skills\n",
    "import os\n",
    "import csv\n",
    "files = os.listdir()\n",
    "line_count = 0\n",
    "\n",
    "for file in files:\n",
    "    if file.endswith('ills.csv'):  # I used endswith 'ills.csv' because for skills, all files ends with _skills.csv\n",
    "        with open(file, 'r') as f:\n",
    "            csv_reader = csv.reader(f, delimiter=',')\n",
    "            with open('merged_skills.csv', 'a', newline='') as f1: #Here you specify file name for the output\n",
    "                csv_writer = csv.writer(f1, delimiter=',')\n",
    "                #next(csv_reader,None)\n",
    "                if line_count == 0:\n",
    "                    csv_writer.writerow([\"Skills\", \"Ref\"])\n",
    "                    line_count +=1\n",
    "                next(csv_reader,None)\n",
    "                for row in csv_reader:\n",
    "                    csv_writer.writerow(row)\n",
    "                csv_writer.writecol([\"\", \"\", \"\", \"\", \"\", \"\"])\n",
    "            "
   ]
  },
  {
   "cell_type": "code",
   "execution_count": null,
   "metadata": {},
   "outputs": [],
   "source": []
  }
 ],
 "metadata": {
  "kernelspec": {
   "display_name": "Python 3",
   "language": "python",
   "name": "python3"
  },
  "language_info": {
   "codemirror_mode": {
    "name": "ipython",
    "version": 3
   },
   "file_extension": ".py",
   "mimetype": "text/x-python",
   "name": "python",
   "nbconvert_exporter": "python",
   "pygments_lexer": "ipython3",
   "version": "3.7.4"
  }
 },
 "nbformat": 4,
 "nbformat_minor": 2
}
