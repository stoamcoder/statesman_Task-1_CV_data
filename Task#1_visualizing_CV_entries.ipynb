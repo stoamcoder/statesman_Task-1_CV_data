{
 "cells": [
  {
   "cell_type": "code",
   "execution_count": null,
   "metadata": {},
   "outputs": [],
   "source": [
    "# For merging personal information\n",
    "import os\n",
    "import csv\n",
    "files = os.listdir()\n",
    "line_count = 0\n",
    "\n",
    "for file in files:\n",
    "    if file.endswith('ion.csv'):  # I used endswith 'ion.csv' because for personal info, all files ends with _information.csv\n",
    "        with open(file, 'r') as f:\n",
    "            csv_reader = csv.reader(f, delimiter=',')\n",
    "            with open('merged_pers_info.csv', 'a', newline='') as f1: #Here you specify file name for the output\n",
    "                csv_writer = csv.writer(f1, delimiter=',')\n",
    "                #next(csv_reader,None)\n",
    "                if line_count == 0:\n",
    "                    csv_writer.writerow([\"Last name\", \"First name\", \"Phone number\", \"Location\", \"Email\"])\n",
    "                    line_count +=1\n",
    "                next(csv_reader,None)\n",
    "                for row in csv_reader:\n",
    "                    csv_writer.writerow(row)"
   ]
  },
  {
   "cell_type": "code",
   "execution_count": 1,
   "metadata": {},
   "outputs": [],
   "source": [
    "# For merging work experience\n",
    "import os\n",
    "import csv\n",
    "files = os.listdir()\n",
    "line_count = 0\n",
    "\n",
    "for file in files:\n",
    "    if file.endswith('exp.csv'):  # I used endswith 'ion.csv' because for personal info, all files ends with _information.csv\n",
    "        with open(file, 'r') as f:\n",
    "            csv_reader = csv.reader(f, delimiter=',')\n",
    "            with open('merged_work_exp.csv', 'a', newline='') as f1: #Here you specify file name for the output\n",
    "                csv_writer = csv.writer(f1, delimiter=',')\n",
    "                #next(csv_reader,None)\n",
    "                if line_count == 0:\n",
    "                    csv_writer.writerow([\"Position\", \"Years of Experience\", \"Role summary\", \"Top Achievements\", \"Objective\"])\n",
    "                    line_count +=1\n",
    "                next(csv_reader,None)\n",
    "                for row in csv_reader:\n",
    "                    csv_writer.writerow(row)"
   ]
  },
  {
   "cell_type": "code",
   "execution_count": 3,
   "metadata": {},
   "outputs": [
    {
     "data": {
      "text/html": [
       "<div>\n",
       "<style scoped>\n",
       "    .dataframe tbody tr th:only-of-type {\n",
       "        vertical-align: middle;\n",
       "    }\n",
       "\n",
       "    .dataframe tbody tr th {\n",
       "        vertical-align: top;\n",
       "    }\n",
       "\n",
       "    .dataframe thead th {\n",
       "        text-align: right;\n",
       "    }\n",
       "</style>\n",
       "<table border=\"1\" class=\"dataframe\">\n",
       "  <thead>\n",
       "    <tr style=\"text-align: right;\">\n",
       "      <th></th>\n",
       "      <th>Position</th>\n",
       "      <th>Years of Experience</th>\n",
       "      <th>Role summary</th>\n",
       "      <th>Top Achievements</th>\n",
       "      <th>Objective</th>\n",
       "    </tr>\n",
       "  </thead>\n",
       "  <tbody>\n",
       "    <tr>\n",
       "      <td>0</td>\n",
       "      <td>['None']</td>\n",
       "      <td>0.00</td>\n",
       "      <td>None</td>\n",
       "      <td>['None']</td>\n",
       "      <td>None</td>\n",
       "    </tr>\n",
       "    <tr>\n",
       "      <td>0</td>\n",
       "      <td>['Teacher, Belvis sch, 1 year']</td>\n",
       "      <td>1.00</td>\n",
       "      <td>Teaching</td>\n",
       "      <td>['None']</td>\n",
       "      <td>None</td>\n",
       "    </tr>\n",
       "    <tr>\n",
       "      <td>0</td>\n",
       "      <td>['Computer operator, Temmy Enterprise, 1 year']</td>\n",
       "      <td>1.00</td>\n",
       "      <td>None</td>\n",
       "      <td>['None']</td>\n",
       "      <td>None</td>\n",
       "    </tr>\n",
       "    <tr>\n",
       "      <td>0</td>\n",
       "      <td>['None']</td>\n",
       "      <td>0.00</td>\n",
       "      <td>None</td>\n",
       "      <td>['None']</td>\n",
       "      <td>To be useful in machine learning industry</td>\n",
       "    </tr>\n",
       "    <tr>\n",
       "      <td>0</td>\n",
       "      <td>['Internship,Harmony Advanced Diagnostic Centr...</td>\n",
       "      <td>0.25</td>\n",
       "      <td>None</td>\n",
       "      <td>['Ability to operate biomedical equipment']</td>\n",
       "      <td>None</td>\n",
       "    </tr>\n",
       "    <tr>\n",
       "      <td>0</td>\n",
       "      <td>['Researcher, UPM, 5 years']</td>\n",
       "      <td>5.00</td>\n",
       "      <td>Research</td>\n",
       "      <td>['Published procedure']</td>\n",
       "      <td>To be a top programmer</td>\n",
       "    </tr>\n",
       "  </tbody>\n",
       "</table>\n",
       "</div>"
      ],
      "text/plain": [
       "                                            Position  Years of Experience  \\\n",
       "0                                           ['None']                 0.00   \n",
       "0                    ['Teacher, Belvis sch, 1 year']                 1.00   \n",
       "0    ['Computer operator, Temmy Enterprise, 1 year']                 1.00   \n",
       "0                                           ['None']                 0.00   \n",
       "0  ['Internship,Harmony Advanced Diagnostic Centr...                 0.25   \n",
       "0                       ['Researcher, UPM, 5 years']                 5.00   \n",
       "\n",
       "  Role summary                             Top Achievements  \\\n",
       "0         None                                     ['None']   \n",
       "0     Teaching                                     ['None']   \n",
       "0         None                                     ['None']   \n",
       "0         None                                     ['None']   \n",
       "0         None  ['Ability to operate biomedical equipment']   \n",
       "0     Research                      ['Published procedure']   \n",
       "\n",
       "                                   Objective  \n",
       "0                                       None  \n",
       "0                                       None  \n",
       "0                                       None  \n",
       "0  To be useful in machine learning industry  \n",
       "0                                       None  \n",
       "0                     To be a top programmer  "
      ]
     },
     "execution_count": 3,
     "metadata": {},
     "output_type": "execute_result"
    }
   ],
   "source": [
    "import pandas as pd\n",
    "import numpy as np\n",
    "import matplotlib.pyplot as plt\n",
    "\n",
    "work_exp = pd.read_csv('merged_work_exp.csv')\n",
    "work_exp"
   ]
  },
  {
   "cell_type": "markdown",
   "metadata": {},
   "source": [
    "From the above table, majority of the applicants do not have more than 1 year experience. This accounts for why they lack top achievements. Strangely however, most of them do not state any objective. May be they associate their objectives with their previous experience. It is important to take this into consideration when drafting new CV collection algorithm."
   ]
  },
  {
   "cell_type": "code",
   "execution_count": 19,
   "metadata": {},
   "outputs": [
    {
     "data": {
      "image/png": "[encoded data removed]",
      "text/plain": [
       "<Figure size 432x288 with 1 Axes>"
      ]
     },
     "metadata": {
      "needs_background": "light"
     },
     "output_type": "display_data"
    }
   ],
   "source": [
    "#work_exp.plot.bar()\n",
    "\n",
    "pd.value_counts(work_exp['Role summary']).plot(kind='barh').invert_yaxis()\n",
    "#work_exp[2]\n",
    "#plt.pie(work_exp)"
   ]
  },
  {
   "cell_type": "markdown",
   "metadata": {},
   "source": [
    "From the column chart above, teaching and research are the other two roles of the applicants with work experience."
   ]
  },
  {
   "cell_type": "code",
   "execution_count": 20,
   "metadata": {},
   "outputs": [
    {
     "data": {
      "image/png": "[encoded data removed]",
      "text/plain": [
       "<Figure size 432x288 with 1 Axes>"
      ]
     },
     "metadata": {
      "needs_background": "light"
     },
     "output_type": "display_data"
    }
   ],
   "source": [
    "pd.value_counts(work_exp['Objective']).plot(kind='barh').invert_yaxis()"
   ]
  },
  {
   "cell_type": "markdown",
   "metadata": {},
   "source": [
    "Even though most applicants state no objective, computer-focus interests (machine learning and programming) dominate."
   ]
  },
  {
   "cell_type": "code",
   "execution_count": 21,
   "metadata": {},
   "outputs": [
    {
     "data": {
      "image/png": "[encoded data removed]",
      "text/plain": [
       "<Figure size 432x288 with 1 Axes>"
      ]
     },
     "metadata": {
      "needs_background": "light"
     },
     "output_type": "display_data"
    }
   ],
   "source": [
    "\n",
    "work_exp.describe()\n",
    "pd.value_counts(work_exp['Years of Experience']).plot(kind='barh').invert_yaxis()"
   ]
  },
  {
   "cell_type": "code",
   "execution_count": 7,
   "metadata": {},
   "outputs": [
    {
     "data": {
      "text/plain": [
       "array([[<matplotlib.axes._subplots.AxesSubplot object at 0x0000027F86F40A48>]],\n",
       "      dtype=object)"
      ]
     },
     "execution_count": 7,
     "metadata": {},
     "output_type": "execute_result"
    },
    {
     "data": {
      "image/png": "[encoded data removed]",
      "text/plain": [
       "<Figure size 432x288 with 1 Axes>"
      ]
     },
     "metadata": {
      "needs_background": "light"
     },
     "output_type": "display_data"
    }
   ],
   "source": [
    "work_exp.hist()"
   ]
  },
  {
   "cell_type": "code",
   "execution_count": 22,
   "metadata": {},
   "outputs": [],
   "source": [
    "#PIE CHARTS\n",
    "#plt.pie(work_exp['Years of Experience'])\n",
    "#autopct=' 1.1f, shadow=True'\n",
    "#autopct = '% 1f %%', shadow=True)\n",
    "plt.show()"
   ]
  },
  {
   "cell_type": "code",
   "execution_count": 6,
   "metadata": {},
   "outputs": [
    {
     "data": {
      "text/html": [
       "<div>\n",
       "<style scoped>\n",
       "    .dataframe tbody tr th:only-of-type {\n",
       "        vertical-align: middle;\n",
       "    }\n",
       "\n",
       "    .dataframe tbody tr th {\n",
       "        vertical-align: top;\n",
       "    }\n",
       "\n",
       "    .dataframe thead th {\n",
       "        text-align: right;\n",
       "    }\n",
       "</style>\n",
       "<table border=\"1\" class=\"dataframe\">\n",
       "  <thead>\n",
       "    <tr style=\"text-align: right;\">\n",
       "      <th></th>\n",
       "      <th>Last name</th>\n",
       "      <th>First name</th>\n",
       "      <th>Phone number</th>\n",
       "      <th>Location</th>\n",
       "      <th>Email</th>\n",
       "    </tr>\n",
       "  </thead>\n",
       "  <tbody>\n",
       "    <tr>\n",
       "      <td>0</td>\n",
       "      <td>ajirireloja</td>\n",
       "      <td>samuel</td>\n",
       "      <td>9076588590</td>\n",
       "      <td>Abuja</td>\n",
       "      <td>aechealgr8@gmail.com</td>\n",
       "    </tr>\n",
       "    <tr>\n",
       "      <td>0</td>\n",
       "      <td>akinlabi</td>\n",
       "      <td>samuel</td>\n",
       "      <td>7012659092</td>\n",
       "      <td>Lagos</td>\n",
       "      <td>samueloreoluwa4@gmail.com</td>\n",
       "    </tr>\n",
       "    <tr>\n",
       "      <td>0</td>\n",
       "      <td>Are</td>\n",
       "      <td>Victor</td>\n",
       "      <td>7069395130</td>\n",
       "      <td>Ilorin</td>\n",
       "      <td>arevictor75@gmail.com</td>\n",
       "    </tr>\n",
       "    <tr>\n",
       "      <td>0</td>\n",
       "      <td>Aremu</td>\n",
       "      <td>Aishat</td>\n",
       "      <td>7084283672</td>\n",
       "      <td>Lagos</td>\n",
       "      <td>aishatmorenike1@gmail.com</td>\n",
       "    </tr>\n",
       "    <tr>\n",
       "      <td>0</td>\n",
       "      <td>Ige</td>\n",
       "      <td>Theophilus</td>\n",
       "      <td>8052085331</td>\n",
       "      <td>Lagos</td>\n",
       "      <td>igetheophilus02@gmail.com</td>\n",
       "    </tr>\n",
       "    <tr>\n",
       "      <td>0</td>\n",
       "      <td>salawu</td>\n",
       "      <td>abdulbaki</td>\n",
       "      <td>9068924442</td>\n",
       "      <td>Ilorin</td>\n",
       "      <td>salawuabdulbaki@gmail.com</td>\n",
       "    </tr>\n",
       "    <tr>\n",
       "      <td>0</td>\n",
       "      <td>statesman</td>\n",
       "      <td>adeyinka</td>\n",
       "      <td>582556152</td>\n",
       "      <td>Dhahran</td>\n",
       "      <td>adeyinka.statesman@gmail.com</td>\n",
       "    </tr>\n",
       "  </tbody>\n",
       "</table>\n",
       "</div>"
      ],
      "text/plain": [
       "     Last name  First name  Phone number Location  \\\n",
       "0  ajirireloja      samuel    9076588590    Abuja   \n",
       "0     akinlabi      samuel    7012659092    Lagos   \n",
       "0          Are      Victor    7069395130   Ilorin   \n",
       "0        Aremu      Aishat    7084283672    Lagos   \n",
       "0          Ige  Theophilus    8052085331    Lagos   \n",
       "0       salawu   abdulbaki    9068924442   Ilorin   \n",
       "0    statesman    adeyinka     582556152  Dhahran   \n",
       "\n",
       "                          Email  \n",
       "0          aechealgr8@gmail.com  \n",
       "0     samueloreoluwa4@gmail.com  \n",
       "0         arevictor75@gmail.com  \n",
       "0     aishatmorenike1@gmail.com  \n",
       "0     igetheophilus02@gmail.com  \n",
       "0     salawuabdulbaki@gmail.com  \n",
       "0  adeyinka.statesman@gmail.com  "
      ]
     },
     "execution_count": 6,
     "metadata": {},
     "output_type": "execute_result"
    }
   ],
   "source": [
    "p_info = pd.read_csv('merged_pers_info.csv')\n",
    "p_info"
   ]
  },
  {
   "cell_type": "code",
   "execution_count": 14,
   "metadata": {},
   "outputs": [
    {
     "data": {
      "image/png": "[encoded data removed]",
      "text/plain": [
       "<Figure size 432x288 with 1 Axes>"
      ]
     },
     "metadata": {
      "needs_background": "light"
     },
     "output_type": "display_data"
    }
   ],
   "source": [
    "pd.value_counts(p_info['Location']).plot(kind='barh').invert_yaxis()\n",
    "\n",
    "#p_info.hist()\n",
    "#plt.show()"
   ]
  },
  {
   "cell_type": "markdown",
   "metadata": {},
   "source": [
    "Most of the applicants reside in Lagos followed by Ilorin. It is safe to hypothesize that programmers are likely to reside in these cities than any other. Although respondents trainers' location might have influenced this observation."
   ]
  },
  {
   "cell_type": "code",
   "execution_count": 29,
   "metadata": {},
   "outputs": [],
   "source": [
    "# For merging Skills\n",
    "import os\n",
    "import csv\n",
    "files = os.listdir()\n",
    "line_count = 0\n",
    "\n",
    "for file in files:\n",
    "    if file.endswith('ills.csv'):  # I used endswith 'ills.csv' because for skills, all files ends with _skills.csv\n",
    "        with open(file, 'r') as f:\n",
    "            csv_reader = csv.reader(f, delimiter=',')\n",
    "            with open('merged_skills.csv', 'a', newline='') as f1: #Here you specify file name for the output\n",
    "                csv_writer = csv.writer(f1, delimiter=',')\n",
    "                #next(csv_reader,None)\n",
    "                if line_count == 0:\n",
    "                    csv_writer.writerow([\"Skills\", \"Ref\"])\n",
    "                    line_count +=1\n",
    "                next(csv_reader,None)\n",
    "                for row in csv_reader:\n",
    "                    csv_writer.writerow(row)\n",
    "            \n"
   ]
  },
  {
   "cell_type": "code",
   "execution_count": 24,
   "metadata": {},
   "outputs": [
    {
     "data": {
      "text/html": [
       "<div>\n",
       "<style scoped>\n",
       "    .dataframe tbody tr th:only-of-type {\n",
       "        vertical-align: middle;\n",
       "    }\n",
       "\n",
       "    .dataframe tbody tr th {\n",
       "        vertical-align: top;\n",
       "    }\n",
       "\n",
       "    .dataframe thead th {\n",
       "        text-align: right;\n",
       "    }\n",
       "</style>\n",
       "<table border=\"1\" class=\"dataframe\">\n",
       "  <thead>\n",
       "    <tr style=\"text-align: right;\">\n",
       "      <th></th>\n",
       "      <th>Skills</th>\n",
       "      <th>Ref</th>\n",
       "    </tr>\n",
       "  </thead>\n",
       "  <tbody>\n",
       "    <tr>\n",
       "      <td>0</td>\n",
       "      <td>['Python', 'C++', 'HTML', 'Java', 'javascript'...</td>\n",
       "      <td>['None']</td>\n",
       "    </tr>\n",
       "    <tr>\n",
       "      <td>0</td>\n",
       "      <td>['Python', 'Matlab', 'CorelDraw', 'Machine lea...</td>\n",
       "      <td>['None']</td>\n",
       "    </tr>\n",
       "    <tr>\n",
       "      <td>0</td>\n",
       "      <td>['Microsoft office', 'Java', 'Python', 'C']</td>\n",
       "      <td>['None']</td>\n",
       "    </tr>\n",
       "    <tr>\n",
       "      <td>0</td>\n",
       "      <td>['Python', 'Machine learning', 'Microsoft offi...</td>\n",
       "      <td>['None']</td>\n",
       "    </tr>\n",
       "    <tr>\n",
       "      <td>0</td>\n",
       "      <td>['Python IOT', 'Graphic design', 'Video animat...</td>\n",
       "      <td>['None']</td>\n",
       "    </tr>\n",
       "    <tr>\n",
       "      <td>0</td>\n",
       "      <td>['Python', 'Research', 'Statistics']</td>\n",
       "      <td>['Dr Tajudeen AO']</td>\n",
       "    </tr>\n",
       "  </tbody>\n",
       "</table>\n",
       "</div>"
      ],
      "text/plain": [
       "                                              Skills                 Ref\n",
       "0  ['Python', 'C++', 'HTML', 'Java', 'javascript'...            ['None']\n",
       "0  ['Python', 'Matlab', 'CorelDraw', 'Machine lea...            ['None']\n",
       "0        ['Microsoft office', 'Java', 'Python', 'C']            ['None']\n",
       "0  ['Python', 'Machine learning', 'Microsoft offi...            ['None']\n",
       "0  ['Python IOT', 'Graphic design', 'Video animat...            ['None']\n",
       "0               ['Python', 'Research', 'Statistics']  ['Dr Tajudeen AO']"
      ]
     },
     "execution_count": 24,
     "metadata": {},
     "output_type": "execute_result"
    }
   ],
   "source": [
    "skill_sum = pd.read_csv('merged_skills.csv')\n",
    "skill_sum\n",
    "#pd.value_counts(skill_sum['Skills']).plot(kind='barh').invert_yaxis()"
   ]
  },
  {
   "cell_type": "markdown",
   "metadata": {},
   "source": [
    "All respondents are skilled in at least one programming language. Python is common to all. "
   ]
  },
  {
   "cell_type": "code",
   "execution_count": null,
   "metadata": {},
   "outputs": [],
   "source": [
    "\n",
    "            "
   ]
  },
  {
   "cell_type": "code",
   "execution_count": 28,
   "metadata": {},
   "outputs": [
    {
     "data": {
      "text/plain": [
       "'C:\\\\Users\\\\Admin\\\\Downloads'"
      ]
     },
     "execution_count": 28,
     "metadata": {},
     "output_type": "execute_result"
    }
   ],
   "source": [
    "import os\n",
    "os.getcwd()"
   ]
  },
  {
   "cell_type": "code",
   "execution_count": null,
   "metadata": {},
   "outputs": [],
   "source": []
  }
 ],
 "metadata": {
  "kernelspec": {
   "display_name": "Python 3",
   "language": "python",
   "name": "python3"
  },
  "language_info": {
   "codemirror_mode": {
    "name": "ipython",
    "version": 3
   },
   "file_extension": ".py",
   "mimetype": "text/x-python",
   "name": "python",
   "nbconvert_exporter": "python",
   "pygments_lexer": "ipython3",
   "version": "3.7.4"
  }
 },
 "nbformat": 4,
 "nbformat_minor": 2
}
